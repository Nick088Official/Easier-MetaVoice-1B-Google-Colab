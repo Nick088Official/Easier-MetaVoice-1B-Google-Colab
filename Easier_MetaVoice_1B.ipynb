{
  "nbformat": 4,
  "nbformat_minor": 0,
  "metadata": {
    "colab": {
      "provenance": [],
      "gpuType": "T4",
      "include_colab_link": true
    },
    "kernelspec": {
      "name": "python3",
      "display_name": "Python 3"
    },
    "language_info": {
      "name": "python"
    },
    "accelerator": "GPU"
  },
  "cells": [
    {
      "cell_type": "markdown",
      "metadata": {
        "id": "view-in-github",
        "colab_type": "text"
      },
      "source": [
        "<a href=\"https://colab.research.google.com/github/Nick088Official/Easier-MetaVoice-1B-Google-Colab/blob/main/Easier_MetaVoice_1B.ipynb\" target=\"_parent\"><img src=\"https://colab.research.google.com/assets/colab-badge.svg\" alt=\"Open In Colab\"/></a>"
      ]
    },
    {
      "cell_type": "markdown",
      "source": [
        "# Easier MetaVoice 1B TTS Google Colab with 0 Shot Voice Cloning\n",
        "\n",
        "Made by [Nick088](https://linktr.ee/Nick088)"
      ],
      "metadata": {
        "id": "7OX5MP7NxTCe"
      }
    },
    {
      "cell_type": "code",
      "source": [
        "#@title Install MetaVoice 1B Model\n",
        "#@markdown If you see an 'You must restart the runtime in order to use newly installed versions.' It's fine, you don't have to\n",
        "\n",
        "!git clone https://github.com/metavoiceio/metavoice-src.git\n",
        "%cd metavoice-src\n",
        "!pip install -r requirements.txt\n",
        "!pip install --upgrade torch torchaudio\n",
        "!pip install -e .\n",
        "from IPython.display import Audio, display\n",
        "from fam.llm.fast_inference import TTS\n",
        "tts = TTS()"
      ],
      "metadata": {
        "id": "hK1BXnvVI80H",
        "cellView": "form"
      },
      "execution_count": null,
      "outputs": []
    },
    {
      "cell_type": "code",
      "source": [
        "#@title Run Inference\n",
        "\n",
        "text = \"This is a demo of text to speech by MetaVoice-1B, an open-source foundational audio model.\" #@param {type:\"string\"}\n",
        "\n",
        "voice = \"assets/bria.mp3\" #@param ['assets/bria.mp3', 'https://cdn.themetavoice.xyz/speakers/alex.mp3', 'https://cdn.themetavoice.xyz/speakers/jacob.wav']\n",
        "\n",
        "Use_Custom_Voice = False #@param {type:\"boolean\"}\n",
        "\n",
        "#@markdown Click on Files, Upload a clean sample of the voice (atleast 30 seconds), after it's done uploading, click the 3 dots next to it and do copy path, and paste it down here\n",
        "Custom_Voice = \"\" #@param {type:\"string\"}\n",
        "\n",
        "if Use_Custom_Voice:\n",
        "  wav_file = tts.synthesise(\n",
        "      text=text,\n",
        "      spk_ref_path=Custom_Voice\n",
        ")\n",
        "else:\n",
        "  wav_file = tts.synthesise(\n",
        "      text=text,\n",
        "      spk_ref_path=voice\n",
        ")\n",
        "\n",
        "display(Audio(wav_file, autoplay=True))"
      ],
      "metadata": {
        "id": "VHfCqKL0YxPR",
        "cellView": "form"
      },
      "execution_count": null,
      "outputs": []
    }
  ]
}